{
 "cells": [
  {
   "cell_type": "code",
   "execution_count": 2,
   "metadata": {},
   "outputs": [],
   "source": [
    "import numpy as np\n",
    "import keras\n",
    "from keras.layers import Flatten, Dense, Conv2D, MaxPooling2D\n",
    "from keras.models import Sequential\n",
    "import os\n",
    "from tensorflow.keras.callbacks import ModelCheckpoint"
   ]
  },
  {
   "cell_type": "code",
   "execution_count": 3,
   "metadata": {},
   "outputs": [],
   "source": [
    "(x_train, y_train), (x_test, y_test) = keras.datasets.mnist.load_data()"
   ]
  },
  {
   "cell_type": "code",
   "execution_count": 4,
   "metadata": {},
   "outputs": [
    {
     "name": "stdout",
     "output_type": "stream",
     "text": [
      "(60000, 28, 28) (60000,) (10000, 28, 28) (10000,)\n"
     ]
    }
   ],
   "source": [
    "print(x_train.shape, y_train.shape, x_test.shape, y_test.shape)"
   ]
  },
  {
   "cell_type": "code",
   "execution_count": 5,
   "metadata": {},
   "outputs": [],
   "source": [
    "#CONSTANTS\n",
    "NUM_CLASSES = 10\n",
    "input_shape = (28,28,1)"
   ]
  },
  {
   "cell_type": "code",
   "execution_count": 6,
   "metadata": {},
   "outputs": [],
   "source": [
    "#NORMALIZTION\n",
    "x_train_normalized = x_train.astype('float32') / 255.0\n",
    "x_test_normalized = x_test.astype('float32') / 255.0\n",
    "y_train_cat = keras.utils.to_categorical(y_train)\n",
    "y_test_cat = keras.utils.to_categorical(y_test)"
   ]
  },
  {
   "cell_type": "code",
   "execution_count": 7,
   "metadata": {},
   "outputs": [
    {
     "name": "stdout",
     "output_type": "stream",
     "text": [
      "Model: \"sequential\"\n",
      "_________________________________________________________________\n",
      " Layer (type)                Output Shape              Param #   \n",
      "=================================================================\n",
      " conv2d (Conv2D)             (None, 26, 26, 32)        320       \n",
      "                                                                 \n",
      " max_pooling2d (MaxPooling2  (None, 13, 13, 32)        0         \n",
      " D)                                                              \n",
      "                                                                 \n",
      " conv2d_1 (Conv2D)           (None, 10, 10, 64)        32832     \n",
      "                                                                 \n",
      " max_pooling2d_1 (MaxPoolin  (None, 5, 5, 64)          0         \n",
      " g2D)                                                            \n",
      "                                                                 \n",
      " conv2d_2 (Conv2D)           (None, 1, 1, 64)          102464    \n",
      "                                                                 \n",
      " flatten (Flatten)           (None, 64)                0         \n",
      "                                                                 \n",
      " dense (Dense)               (None, 64)                4160      \n",
      "                                                                 \n",
      " dense_1 (Dense)             (None, 32)                2080      \n",
      "                                                                 \n",
      " dense_2 (Dense)             (None, 10)                330       \n",
      "                                                                 \n",
      "=================================================================\n",
      "Total params: 142186 (555.41 KB)\n",
      "Trainable params: 142186 (555.41 KB)\n",
      "Non-trainable params: 0 (0.00 Byte)\n",
      "_________________________________________________________________\n"
     ]
    }
   ],
   "source": [
    "\n",
    "model = Sequential([\n",
    "    Conv2D(32, (3, 3), activation='relu', input_shape=input_shape),\n",
    "    MaxPooling2D((2, 2)),\n",
    "    Conv2D(64, (4, 4), activation='relu'),\n",
    "    MaxPooling2D((2, 2)),\n",
    "    Conv2D(64, (5, 5), activation='relu'),\n",
    "    Flatten(),\n",
    "    Dense(64, activation='relu'),\n",
    "    Dense(32, activation='relu'),\n",
    "    Dense(NUM_CLASSES, activation='softmax')\n",
    "])\n",
    "model.compile(optimizer='adam',\n",
    "                loss='categorical_crossentropy',\n",
    "                metrics=['accuracy'])\n",
    "    \n",
    "model.summary()"
   ]
  },
  {
   "cell_type": "code",
   "execution_count": 16,
   "metadata": {},
   "outputs": [],
   "source": [
    "checkpoint = ModelCheckpoint(filepath='models/DIGITZ_best.h5',\n",
    "                            #  save_format='keras', \n",
    "                             monitor='val_accuracy',  \n",
    "                             verbose=2, \n",
    "                             save_best_only=True)\n",
    "\n",
    "callbacks = [checkpoint]"
   ]
  },
  {
   "cell_type": "code",
   "execution_count": 17,
   "metadata": {},
   "outputs": [
    {
     "name": "stdout",
     "output_type": "stream",
     "text": [
      "Epoch 1/30\n",
      "1490/1500 [============================>.] - ETA: 0s - loss: 0.0287 - accuracy: 0.9909\n",
      "Epoch 1: val_accuracy improved from -inf to 0.98625, saving model to models/DIGITZ_best.h5\n",
      "1500/1500 [==============================] - 9s 6ms/step - loss: 0.0286 - accuracy: 0.9910 - val_loss: 0.0464 - val_accuracy: 0.9862\n",
      "Epoch 2/30\n",
      "  20/1500 [..............................] - ETA: 8s - loss: 0.0234 - accuracy: 0.9937"
     ]
    },
    {
     "name": "stderr",
     "output_type": "stream",
     "text": [
      "/Users/ginger/miniforge3/lib/python3.10/site-packages/keras/src/engine/training.py:3079: UserWarning: You are saving your model as an HDF5 file via `model.save()`. This file format is considered legacy. We recommend using instead the native Keras format, e.g. `model.save('my_model.keras')`.\n",
      "  saving_api.save_model(\n"
     ]
    },
    {
     "name": "stdout",
     "output_type": "stream",
     "text": [
      "1494/1500 [============================>.] - ETA: 0s - loss: 0.0222 - accuracy: 0.9933\n",
      "Epoch 2: val_accuracy did not improve from 0.98625\n",
      "1500/1500 [==============================] - 9s 6ms/step - loss: 0.0222 - accuracy: 0.9933 - val_loss: 0.0514 - val_accuracy: 0.9862\n",
      "Epoch 3/30\n",
      "1498/1500 [============================>.] - ETA: 0s - loss: 0.0184 - accuracy: 0.9946\n",
      "Epoch 3: val_accuracy improved from 0.98625 to 0.98867, saving model to models/DIGITZ_best.h5\n",
      "1500/1500 [==============================] - 9s 6ms/step - loss: 0.0184 - accuracy: 0.9946 - val_loss: 0.0405 - val_accuracy: 0.9887\n",
      "Epoch 4/30\n",
      "1495/1500 [============================>.] - ETA: 0s - loss: 0.0160 - accuracy: 0.9950\n",
      "Epoch 4: val_accuracy did not improve from 0.98867\n",
      "1500/1500 [==============================] - 9s 6ms/step - loss: 0.0161 - accuracy: 0.9950 - val_loss: 0.0518 - val_accuracy: 0.9874\n",
      "Epoch 5/30\n",
      "1492/1500 [============================>.] - ETA: 0s - loss: 0.0121 - accuracy: 0.9961\n",
      "Epoch 5: val_accuracy did not improve from 0.98867\n",
      "1500/1500 [==============================] - 9s 6ms/step - loss: 0.0122 - accuracy: 0.9961 - val_loss: 0.0641 - val_accuracy: 0.9844\n",
      "Epoch 6/30\n",
      "1494/1500 [============================>.] - ETA: 0s - loss: 0.0117 - accuracy: 0.9964\n",
      "Epoch 6: val_accuracy did not improve from 0.98867\n",
      "1500/1500 [==============================] - 9s 6ms/step - loss: 0.0117 - accuracy: 0.9963 - val_loss: 0.0525 - val_accuracy: 0.9880\n",
      "Epoch 7/30\n",
      "1499/1500 [============================>.] - ETA: 0s - loss: 0.0103 - accuracy: 0.9968\n",
      "Epoch 7: val_accuracy improved from 0.98867 to 0.98900, saving model to models/DIGITZ_best.h5\n",
      "1500/1500 [==============================] - 9s 6ms/step - loss: 0.0104 - accuracy: 0.9967 - val_loss: 0.0510 - val_accuracy: 0.9890\n",
      "Epoch 8/30\n",
      "1496/1500 [============================>.] - ETA: 0s - loss: 0.0098 - accuracy: 0.9971\n",
      "Epoch 8: val_accuracy did not improve from 0.98900\n",
      "1500/1500 [==============================] - 9s 6ms/step - loss: 0.0097 - accuracy: 0.9971 - val_loss: 0.0433 - val_accuracy: 0.9887\n",
      "Epoch 9/30\n",
      "1492/1500 [============================>.] - ETA: 0s - loss: 0.0071 - accuracy: 0.9979\n",
      "Epoch 9: val_accuracy improved from 0.98900 to 0.98908, saving model to models/DIGITZ_best.h5\n",
      "1500/1500 [==============================] - 9s 6ms/step - loss: 0.0071 - accuracy: 0.9979 - val_loss: 0.0524 - val_accuracy: 0.9891\n",
      "Epoch 10/30\n",
      "1494/1500 [============================>.] - ETA: 0s - loss: 0.0083 - accuracy: 0.9973\n",
      "Epoch 10: val_accuracy improved from 0.98908 to 0.98925, saving model to models/DIGITZ_best.h5\n",
      "1500/1500 [==============================] - 10s 6ms/step - loss: 0.0083 - accuracy: 0.9973 - val_loss: 0.0495 - val_accuracy: 0.9893\n",
      "Epoch 11/30\n",
      "1495/1500 [============================>.] - ETA: 0s - loss: 0.0089 - accuracy: 0.9973\n",
      "Epoch 11: val_accuracy improved from 0.98925 to 0.98967, saving model to models/DIGITZ_best.h5\n",
      "1500/1500 [==============================] - 10s 6ms/step - loss: 0.0089 - accuracy: 0.9973 - val_loss: 0.0453 - val_accuracy: 0.9897\n",
      "Epoch 12/30\n",
      "1498/1500 [============================>.] - ETA: 0s - loss: 0.0083 - accuracy: 0.9975\n",
      "Epoch 12: val_accuracy did not improve from 0.98967\n",
      "1500/1500 [==============================] - 9s 6ms/step - loss: 0.0083 - accuracy: 0.9975 - val_loss: 0.0655 - val_accuracy: 0.9871\n",
      "Epoch 13/30\n",
      "1494/1500 [============================>.] - ETA: 0s - loss: 0.0053 - accuracy: 0.9984\n",
      "Epoch 13: val_accuracy did not improve from 0.98967\n",
      "1500/1500 [==============================] - 9s 6ms/step - loss: 0.0052 - accuracy: 0.9984 - val_loss: 0.0626 - val_accuracy: 0.9893\n",
      "Epoch 14/30\n",
      "1495/1500 [============================>.] - ETA: 0s - loss: 0.0061 - accuracy: 0.9982\n",
      "Epoch 14: val_accuracy improved from 0.98967 to 0.98983, saving model to models/DIGITZ_best.h5\n",
      "1500/1500 [==============================] - 9s 6ms/step - loss: 0.0061 - accuracy: 0.9982 - val_loss: 0.0513 - val_accuracy: 0.9898\n",
      "Epoch 15/30\n",
      "1500/1500 [==============================] - ETA: 0s - loss: 0.0052 - accuracy: 0.9985\n",
      "Epoch 15: val_accuracy did not improve from 0.98983\n",
      "1500/1500 [==============================] - 9s 6ms/step - loss: 0.0052 - accuracy: 0.9985 - val_loss: 0.0578 - val_accuracy: 0.9898\n",
      "Epoch 16/30\n",
      "1492/1500 [============================>.] - ETA: 0s - loss: 0.0056 - accuracy: 0.9983\n",
      "Epoch 16: val_accuracy improved from 0.98983 to 0.99017, saving model to models/DIGITZ_best.h5\n",
      "1500/1500 [==============================] - 9s 6ms/step - loss: 0.0056 - accuracy: 0.9983 - val_loss: 0.0497 - val_accuracy: 0.9902\n",
      "Epoch 17/30\n",
      "1498/1500 [============================>.] - ETA: 0s - loss: 0.0065 - accuracy: 0.9980\n",
      "Epoch 17: val_accuracy did not improve from 0.99017\n",
      "1500/1500 [==============================] - 10s 7ms/step - loss: 0.0065 - accuracy: 0.9980 - val_loss: 0.0750 - val_accuracy: 0.9868\n",
      "Epoch 18/30\n",
      "1492/1500 [============================>.] - ETA: 0s - loss: 0.0038 - accuracy: 0.9989\n",
      "Epoch 18: val_accuracy did not improve from 0.99017\n",
      "1500/1500 [==============================] - 9s 6ms/step - loss: 0.0038 - accuracy: 0.9989 - val_loss: 0.0604 - val_accuracy: 0.9896\n",
      "Epoch 19/30\n",
      "1492/1500 [============================>.] - ETA: 0s - loss: 0.0068 - accuracy: 0.9982\n",
      "Epoch 19: val_accuracy did not improve from 0.99017\n",
      "1500/1500 [==============================] - 9s 6ms/step - loss: 0.0068 - accuracy: 0.9982 - val_loss: 0.0540 - val_accuracy: 0.9898\n",
      "Epoch 20/30\n",
      "1500/1500 [==============================] - ETA: 0s - loss: 0.0055 - accuracy: 0.9986\n",
      "Epoch 20: val_accuracy improved from 0.99017 to 0.99158, saving model to models/DIGITZ_best.h5\n",
      "1500/1500 [==============================] - 10s 6ms/step - loss: 0.0055 - accuracy: 0.9986 - val_loss: 0.0523 - val_accuracy: 0.9916\n",
      "Epoch 21/30\n",
      "1498/1500 [============================>.] - ETA: 0s - loss: 0.0028 - accuracy: 0.9993\n",
      "Epoch 21: val_accuracy did not improve from 0.99158\n",
      "1500/1500 [==============================] - 10s 7ms/step - loss: 0.0028 - accuracy: 0.9993 - val_loss: 0.0609 - val_accuracy: 0.9907\n",
      "Epoch 22/30\n",
      "1499/1500 [============================>.] - ETA: 0s - loss: 0.0047 - accuracy: 0.9988\n",
      "Epoch 22: val_accuracy did not improve from 0.99158\n",
      "1500/1500 [==============================] - 9s 6ms/step - loss: 0.0047 - accuracy: 0.9988 - val_loss: 0.0604 - val_accuracy: 0.9884\n",
      "Epoch 23/30\n",
      "1492/1500 [============================>.] - ETA: 0s - loss: 0.0049 - accuracy: 0.9985\n",
      "Epoch 23: val_accuracy did not improve from 0.99158\n",
      "1500/1500 [==============================] - 10s 6ms/step - loss: 0.0049 - accuracy: 0.9984 - val_loss: 0.0754 - val_accuracy: 0.9888\n",
      "Epoch 24/30\n",
      "1492/1500 [============================>.] - ETA: 0s - loss: 0.0054 - accuracy: 0.9983\n",
      "Epoch 24: val_accuracy did not improve from 0.99158\n",
      "1500/1500 [==============================] - 10s 6ms/step - loss: 0.0054 - accuracy: 0.9983 - val_loss: 0.0543 - val_accuracy: 0.9898\n",
      "Epoch 25/30\n",
      "1496/1500 [============================>.] - ETA: 0s - loss: 0.0026 - accuracy: 0.9993\n",
      "Epoch 25: val_accuracy did not improve from 0.99158\n",
      "1500/1500 [==============================] - 9s 6ms/step - loss: 0.0026 - accuracy: 0.9993 - val_loss: 0.0563 - val_accuracy: 0.9908\n",
      "Epoch 26/30\n",
      "1497/1500 [============================>.] - ETA: 0s - loss: 0.0035 - accuracy: 0.9991\n",
      "Epoch 26: val_accuracy did not improve from 0.99158\n",
      "1500/1500 [==============================] - 10s 7ms/step - loss: 0.0035 - accuracy: 0.9991 - val_loss: 0.0609 - val_accuracy: 0.9908\n",
      "Epoch 27/30\n",
      "1493/1500 [============================>.] - ETA: 0s - loss: 0.0046 - accuracy: 0.9989\n",
      "Epoch 27: val_accuracy did not improve from 0.99158\n",
      "1500/1500 [==============================] - 10s 7ms/step - loss: 0.0047 - accuracy: 0.9989 - val_loss: 0.0716 - val_accuracy: 0.9893\n",
      "Epoch 28/30\n",
      "1498/1500 [============================>.] - ETA: 0s - loss: 0.0033 - accuracy: 0.9990\n",
      "Epoch 28: val_accuracy did not improve from 0.99158\n",
      "1500/1500 [==============================] - 9s 6ms/step - loss: 0.0033 - accuracy: 0.9990 - val_loss: 0.0680 - val_accuracy: 0.9916\n",
      "Epoch 29/30\n",
      "1498/1500 [============================>.] - ETA: 0s - loss: 0.0034 - accuracy: 0.9990\n",
      "Epoch 29: val_accuracy did not improve from 0.99158\n",
      "1500/1500 [==============================] - 10s 7ms/step - loss: 0.0034 - accuracy: 0.9990 - val_loss: 0.0898 - val_accuracy: 0.9883\n",
      "Epoch 30/30\n",
      "1496/1500 [============================>.] - ETA: 0s - loss: 0.0051 - accuracy: 0.9988\n",
      "Epoch 30: val_accuracy did not improve from 0.99158\n",
      "1500/1500 [==============================] - 11s 8ms/step - loss: 0.0051 - accuracy: 0.9988 - val_loss: 0.0614 - val_accuracy: 0.9899\n"
     ]
    }
   ],
   "source": [
    "history = model.fit(x_train_normalized, \n",
    "                    y_train_cat, \n",
    "                    epochs=30, \n",
    "                    validation_split=0.2,\n",
    "                    callbacks=callbacks)"
   ]
  },
  {
   "cell_type": "code",
   "execution_count": 19,
   "metadata": {},
   "outputs": [
    {
     "name": "stdout",
     "output_type": "stream",
     "text": [
      "313/313 - 1s - loss: 0.0352 - accuracy: 0.9921 - 519ms/epoch - 2ms/step\n",
      "\n",
      "Test accuracy: 0.9921000003814697\n",
      "313/313 [==============================] - 1s 2ms/step\n",
      "\n",
      "Classification Report:\n",
      "              precision    recall  f1-score   support\n",
      "\n",
      "           0       1.00      1.00      1.00       980\n",
      "           1       1.00      1.00      1.00      1135\n",
      "           2       1.00      0.99      0.99      1032\n",
      "           3       0.99      1.00      0.99      1010\n",
      "           4       0.99      0.99      0.99       982\n",
      "           5       0.99      0.99      0.99       892\n",
      "           6       1.00      0.99      0.99       958\n",
      "           7       0.99      0.99      0.99      1028\n",
      "           8       0.99      0.99      0.99       974\n",
      "           9       0.99      0.99      0.99      1009\n",
      "\n",
      "    accuracy                           0.99     10000\n",
      "   macro avg       0.99      0.99      0.99     10000\n",
      "weighted avg       0.99      0.99      0.99     10000\n",
      "\n",
      "[[ 976    0    0    1    1    0    1    0    1    0]\n",
      " [   0 1130    0    2    0    0    2    1    0    0]\n",
      " [   1    0 1023    0    1    0    0    4    3    0]\n",
      " [   0    0    1 1005    0    3    0    0    0    1]\n",
      " [   0    0    0    0  975    0    0    2    1    4]\n",
      " [   1    0    0    6    0  879    1    1    2    2]\n",
      " [   1    1    0    0    4    4  945    0    3    0]\n",
      " [   0    3    2    1    0    0    0 1020    0    2]\n",
      " [   0    0    1    0    0    1    0    1  968    3]\n",
      " [   0    0    0    1    4    2    0    2    0 1000]]\n"
     ]
    }
   ],
   "source": [
    "# Evaluate the model\n",
    "test_loss, test_acc = model.evaluate(x_test_normalized, y_test_cat, verbose=2)\n",
    "print(f'\\nTest accuracy: {test_acc}')\n",
    "\n",
    "# Print classification report\n",
    "y_pred = model.predict(x_test_normalized)\n",
    "y_pred_classes = np.argmax(y_pred, axis=1)\n",
    "y_true_classes = np.argmax(y_test_cat, axis=1)\n",
    "\n",
    "from sklearn.metrics import classification_report, confusion_matrix\n",
    "print('\\nClassification Report:')\n",
    "print(classification_report(y_true_classes, y_pred_classes))\n",
    "cm = confusion_matrix(y_true_classes, y_pred_classes)\n",
    "print(cm)"
   ]
  },
  {
   "cell_type": "code",
   "execution_count": 22,
   "metadata": {},
   "outputs": [],
   "source": [
    "model_path = 'models/'\n",
    "if not os.path.exists(model_path):\n",
    "    os.makedirs(model_path)"
   ]
  },
  {
   "cell_type": "code",
   "execution_count": 1,
   "metadata": {},
   "outputs": [
    {
     "ename": "NameError",
     "evalue": "name 'model' is not defined",
     "output_type": "error",
     "traceback": [
      "\u001b[0;31m---------------------------------------------------------------------------\u001b[0m",
      "\u001b[0;31mNameError\u001b[0m                                 Traceback (most recent call last)",
      "Cell \u001b[0;32mIn[1], line 1\u001b[0m\n\u001b[0;32m----> 1\u001b[0m \u001b[43mmodel\u001b[49m\u001b[38;5;241m.\u001b[39msave(model_path\u001b[38;5;241m+\u001b[39m\u001b[38;5;124m'\u001b[39m\u001b[38;5;124mdigit_recogonizer.keras\u001b[39m\u001b[38;5;124m'\u001b[39m)\n",
      "\u001b[0;31mNameError\u001b[0m: name 'model' is not defined"
     ]
    }
   ],
   "source": [
    "model.save(model_path+'digit_recogonizer.keras')"
   ]
  },
  {
   "cell_type": "code",
   "execution_count": 8,
   "metadata": {},
   "outputs": [],
   "source": [
    "import matplotlib.pyplot as plt"
   ]
  },
  {
   "cell_type": "code",
   "execution_count": 9,
   "metadata": {},
   "outputs": [
    {
     "data": {
      "text/plain": [
       "<matplotlib.image.AxesImage at 0x15fae9b10>"
      ]
     },
     "execution_count": 9,
     "metadata": {},
     "output_type": "execute_result"
    },
    {
     "data": {
      "image/png": "[encoded data removed]",
      "text/plain": [
       "<Figure size 640x480 with 1 Axes>"
      ]
     },
     "metadata": {},
     "output_type": "display_data"
    }
   ],
   "source": [
    "plt.imshow(x_train[0])"
   ]
  },
  {
   "cell_type": "code",
   "execution_count": 6,
   "metadata": {},
   "outputs": [],
   "source": [
    "mode = keras.saving.load_model('models/1730030314')"
   ]
  },
  {
   "cell_type": "code",
   "execution_count": 18,
   "metadata": {},
   "outputs": [],
   "source": [
    "model_load = keras.models.load_model('models/DIGITZ_best.h5')"
   ]
  },
  {
   "cell_type": "code",
   "execution_count": 19,
   "metadata": {},
   "outputs": [
    {
     "name": "stdout",
     "output_type": "stream",
     "text": [
      "313/313 - 1s - loss: 0.0395 - accuracy: 0.9922 - 618ms/epoch - 2ms/step\n",
      "\n",
      "Test accuracy: 0.9922000169754028\n",
      "313/313 [==============================] - 1s 2ms/step\n",
      "\n",
      "Classification Report:\n",
      "              precision    recall  f1-score   support\n",
      "\n",
      "           0       0.99      1.00      1.00       980\n",
      "           1       1.00      1.00      1.00      1135\n",
      "           2       0.99      0.99      0.99      1032\n",
      "           3       0.99      0.99      0.99      1010\n",
      "           4       0.99      0.99      0.99       982\n",
      "           5       0.99      0.99      0.99       892\n",
      "           6       0.99      0.99      0.99       958\n",
      "           7       0.99      0.99      0.99      1028\n",
      "           8       0.99      0.99      0.99       974\n",
      "           9       0.99      0.98      0.99      1009\n",
      "\n",
      "    accuracy                           0.99     10000\n",
      "   macro avg       0.99      0.99      0.99     10000\n",
      "weighted avg       0.99      0.99      0.99     10000\n",
      "\n",
      "[[ 978    0    0    0    0    0    1    1    0    0]\n",
      " [   0 1132    0    0    0    1    0    0    1    1]\n",
      " [   1    0 1026    1    0    0    1    3    0    0]\n",
      " [   0    0    3 1000    0    4    0    2    1    0]\n",
      " [   0    0    0    0  973    0    1    2    1    5]\n",
      " [   0    0    0    4    0  885    2    0    0    1]\n",
      " [   3    2    0    1    0    3  947    0    1    1]\n",
      " [   0    1    3    1    0    0    0 1022    0    1]\n",
      " [   2    0    3    0    0    1    0    0  966    2]\n",
      " [   0    1    0    0    5    3    0    5    2  993]]\n"
     ]
    }
   ],
   "source": [
    "# Evaluate the model\n",
    "test_loss, test_acc = model_load.evaluate(x_test_normalized, y_test_cat, verbose=2)\n",
    "print(f'\\nTest accuracy: {test_acc}')\n",
    "\n",
    "# Print classification report\n",
    "y_pred = model_load.predict(x_test_normalized)\n",
    "y_pred_classes = np.argmax(y_pred, axis=1)\n",
    "y_true_classes = np.argmax(y_test_cat, axis=1)\n",
    "\n",
    "from sklearn.metrics import classification_report, confusion_matrix\n",
    "print('\\nClassification Report:')\n",
    "print(classification_report(y_true_classes, y_pred_classes))\n",
    "cm = confusion_matrix(y_true_classes, y_pred_classes)\n",
    "print(cm)"
   ]
  },
  {
   "cell_type": "code",
   "execution_count": null,
   "metadata": {},
   "outputs": [],
   "source": []
  }
 ],
 "metadata": {
  "kernelspec": {
   "display_name": "base",
   "language": "python",
   "name": "python3"
  },
  "language_info": {
   "codemirror_mode": {
    "name": "ipython",
    "version": 3
   },
   "file_extension": ".py",
   "mimetype": "text/x-python",
   "name": "python",
   "nbconvert_exporter": "python",
   "pygments_lexer": "ipython3",
   "version": "3.10.14"
  }
 },
 "nbformat": 4,
 "nbformat_minor": 2
}
